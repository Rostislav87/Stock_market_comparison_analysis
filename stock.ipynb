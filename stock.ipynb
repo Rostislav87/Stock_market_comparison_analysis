{
 "cells": [
  {
   "cell_type": "code",
   "execution_count": null,
   "metadata": {},
   "outputs": [],
   "source": [
    "import pandas as pd\n",
    "import yfinance as yf\n",
    "import plotly.io as pio\n",
    "import plotly.graph_objects as go\n",
    "from datetime import datetime\n",
    "pio.templates.default = 'plotly_white'"
   ]
  },
  {
   "cell_type": "code",
   "execution_count": null,
   "metadata": {},
   "outputs": [],
   "source": [
    "# Define the tickers for stocks\n",
    "apple = 'AAPL'\n",
    "visa = 'V'\n",
    "brkb = 'BRK-B'\n",
    "markel = 'MKL'\n",
    "\n",
    "# Define the date range fot the last year\n",
    "start_date = '2023-01-01'\n",
    "end_date = datetime.now()\n",
    "\n",
    "# Fetch historical stock price data using yfinance\n",
    "apple_data = yf.download(apple, start=start_date, end=end_date)\n",
    "visa_data = yf.download(visa, start=start_date, end=end_date)\n",
    "brkb_data = yf.download(brkb, start=start_date, end=end_date)\n",
    "markel_data = yf.download(markel, start=start_date, end=end_date)"
   ]
  },
  {
   "cell_type": "code",
   "execution_count": null,
   "metadata": {},
   "outputs": [],
   "source": [
    "# Calculate daily returns\n",
    "apple_data['Daily_Return'] = apple_data['Adj Close'].pct_change()\n",
    "visa_data['Daily_Return'] = visa_data['Adj Close'].pct_change()\n",
    "brkb_data['Daily_Return'] = brkb_data['Adj Close'].pct_change()\n",
    "markel_data['Daily_Return'] = markel_data['Adj Close'].pct_change()\n",
    "\n",
    "# Create a figure to visualize the daily returns\n",
    "fig = go.Figure()\n",
    "\n",
    "fig.add_trace(go.Scatter(x=apple_data.index, y=apple_data['Daily_Return'],\n",
    "                         mode='lines', name='Apple Inc.', line=dict(color='black')))\n",
    "fig.add_trace(go.Scatter(x=visa_data.index, y=visa_data['Daily_Return'],\n",
    "                         mode='lines', name='Visa Inc.', line=dict(color='red')))\n",
    "fig.add_trace(go.Scatter(x=brkb_data.index, y=brkb_data['Daily_Return'],\n",
    "                         mode='lines', name='Berkshire Hathaway Inc.', line=dict(color='blue')))\n",
    "fig.add_trace(go.Scatter(x=markel_data.index, y=markel_data['Daily_Return'],\n",
    "                         mode='lines', name='Markel Group Inc.', line=dict(color='orange')))\n",
    "\n",
    "fig.update_layout(title='Daily Returns (Year to date)',\n",
    "                  xaxis_title='Date', yaxis_title='Daily Return',\n",
    "                  legend=dict(x=0.02, y=0.95))\n",
    "\n",
    "fig.show()"
   ]
  },
  {
   "cell_type": "code",
   "execution_count": null,
   "metadata": {},
   "outputs": [],
   "source": [
    "# Calculate cumulative returns for the last year\n",
    "apple_cumulative_return = (1 + apple_data['Daily_Return']).cumprod() - 1\n",
    "visa_cumulative_return = (1 + visa_data['Daily_Return']).cumprod() - 1\n",
    "brkb_cumulative_return = (1 + brkb_data['Daily_Return']).cumprod() - 1\n",
    "markel_cumulative_return = (1 + markel_data['Daily_Return']).cumprod() - 1\n",
    "\n",
    "# Create a figure to visualize the cumulative returns\n",
    "fig = go.Figure()\n",
    "\n",
    "fig.add_trace(go.Scatter(x=apple_cumulative_return.index, y=apple_cumulative_return,\n",
    "                         mode='lines', name='Apple Inc.', line=dict(color='black')))\n",
    "fig.add_trace(go.Scatter(x=visa_cumulative_return.index, y=visa_cumulative_return,\n",
    "                         mode='lines', name='Visa Inc.', line=dict(color='red')))\n",
    "fig.add_trace(go.Scatter(x=brkb_cumulative_return.index, y=brkb_cumulative_return,\n",
    "                         mode='lines', name='Berkshire Hathaway Inc.', line=dict(color='blue')))\n",
    "fig.add_trace(go.Scatter(x=markel_cumulative_return.index, y=markel_cumulative_return,\n",
    "                         mode='lines', name='Markel Group Inc.', line=dict(color='orange')))\n",
    "\n",
    "fig.update_layout(title='Cumulative Returns (Year to date)',\n",
    "                  xaxis_title='Date', yaxis_title='Cumulative Return',\n",
    "                  legend=dict(x=0.02, y=0.95))\n",
    "\n",
    "fig.show()"
   ]
  },
  {
   "cell_type": "code",
   "execution_count": null,
   "metadata": {},
   "outputs": [],
   "source": [
    "# Calculate historical volatility (standard deviation of daily returns)\n",
    "apple_volatility = apple_data['Daily_Return'].std()\n",
    "visa_volatility = visa_data['Daily_Return'].std()\n",
    "brkb_volatility = brkb_data['Daily_Return'].std()\n",
    "markel_volatility = markel_data['Daily_Return'].std()\n",
    "\n",
    "# Create and figure to compare volatility\n",
    "fig1 = go.Figure()\n",
    "fig1.add_bar(x=['Apple', 'Visa', 'Berkshire Hathaway', 'Markel Group'], y=[apple_volatility, visa_volatility, brkb_volatility, markel_volatility],\n",
    "             text=[f'{apple_volatility:.4f}', f'{visa_volatility:.4f}', f'{brkb_volatility:.4f}', f'{markel_volatility:.4f}'],\n",
    "             textposition='auto', marker=dict(color=['black', 'red', 'blue', 'orange']))\n",
    "\n",
    "fig1.update_layout(title='Volatility Comparison (Year to date)',\n",
    "                   xaxis_title='Stock', yaxis_title='Volatility (Standard Deviation)',\n",
    "                   bargap=0.5)\n",
    "\n",
    "fig1.show()           "
   ]
  }
 ],
 "metadata": {
  "kernelspec": {
   "display_name": "venv",
   "language": "python",
   "name": "python3"
  },
  "language_info": {
   "codemirror_mode": {
    "name": "ipython",
    "version": 3
   },
   "file_extension": ".py",
   "mimetype": "text/x-python",
   "name": "python",
   "nbconvert_exporter": "python",
   "pygments_lexer": "ipython3",
   "version": "3.11.6"
  }
 },
 "nbformat": 4,
 "nbformat_minor": 2
}
